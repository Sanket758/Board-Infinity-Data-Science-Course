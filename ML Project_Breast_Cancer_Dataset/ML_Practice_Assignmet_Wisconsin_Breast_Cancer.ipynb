{
  "nbformat": 4,
  "nbformat_minor": 0,
  "metadata": {
    "colab": {
      "name": "ML Practice Assignmet- Wisconsin Breast Cancer.ipynb",
      "provenance": []
    },
    "kernelspec": {
      "name": "python3",
      "display_name": "Python 3"
    }
  },
  "cells": [
    {
      "cell_type": "markdown",
      "metadata": {
        "id": "IC6nxIns7PXA",
        "colab_type": "text"
      },
      "source": [
        "#**Scenario**: \n",
        "Breast cancer is one of the mostly occurred cancers all over the world. It is important to detect and cure it. If this cancer is identified in time, then it could be prevented by treatment. In order to do so, machine learning can help to make prediction to know whether patient has Breast Cancer or not.  \n",
        "\n",
        "#**Problem statement:**   \n",
        "Build a predictive model to classify whether patient has cancer or not.\n"
      ]
    },
    {
      "cell_type": "code",
      "metadata": {
        "id": "UXAMfCEy6mwn",
        "colab_type": "code",
        "colab": {}
      },
      "source": [
        "# Data Manipulation\n",
        "import pandas as pd\n",
        "import numpy as np\n",
        "\n",
        "# Data visualization\n",
        "import matplotlib.pyplot as plt\n",
        "import seaborn as sns\n",
        "\n",
        "# Standard\n",
        "import os, sys, warnings\n",
        "warnings.filterwarnings('ignore')\n",
        "\n",
        "# ML related\n",
        "from scipy import stats\n",
        "from sklearn.preprocessing import normalize\n",
        "from sklearn.model_selection import cross_val_score\n",
        "from sklearn.model_selection import train_test_split\n",
        "from sklearn.metrics import accuracy_score, mean_squared_error, precision_score, recall_score, r2_score\n",
        "%matplotlib inline"
      ],
      "execution_count": 24,
      "outputs": []
    },
    {
      "cell_type": "code",
      "metadata": {
        "id": "I-hdivmV8qZj",
        "colab_type": "code",
        "colab": {
          "base_uri": "https://localhost:8080/",
          "height": 204
        },
        "outputId": "c1be260e-2c5c-41d1-d829-f243c76a22ba"
      },
      "source": [
        "df = pd.read_csv('Breast_cancer_data.csv')\n",
        "df.head()"
      ],
      "execution_count": 25,
      "outputs": [
        {
          "output_type": "execute_result",
          "data": {
            "text/html": [
              "<div>\n",
              "<style scoped>\n",
              "    .dataframe tbody tr th:only-of-type {\n",
              "        vertical-align: middle;\n",
              "    }\n",
              "\n",
              "    .dataframe tbody tr th {\n",
              "        vertical-align: top;\n",
              "    }\n",
              "\n",
              "    .dataframe thead th {\n",
              "        text-align: right;\n",
              "    }\n",
              "</style>\n",
              "<table border=\"1\" class=\"dataframe\">\n",
              "  <thead>\n",
              "    <tr style=\"text-align: right;\">\n",
              "      <th></th>\n",
              "      <th>mean_radius</th>\n",
              "      <th>mean_texture</th>\n",
              "      <th>mean_perimeter</th>\n",
              "      <th>mean_area</th>\n",
              "      <th>mean_smoothness</th>\n",
              "      <th>diagnosis</th>\n",
              "    </tr>\n",
              "  </thead>\n",
              "  <tbody>\n",
              "    <tr>\n",
              "      <th>0</th>\n",
              "      <td>17.99</td>\n",
              "      <td>10.38</td>\n",
              "      <td>122.80</td>\n",
              "      <td>1001.0</td>\n",
              "      <td>0.11840</td>\n",
              "      <td>0</td>\n",
              "    </tr>\n",
              "    <tr>\n",
              "      <th>1</th>\n",
              "      <td>20.57</td>\n",
              "      <td>17.77</td>\n",
              "      <td>132.90</td>\n",
              "      <td>1326.0</td>\n",
              "      <td>0.08474</td>\n",
              "      <td>0</td>\n",
              "    </tr>\n",
              "    <tr>\n",
              "      <th>2</th>\n",
              "      <td>19.69</td>\n",
              "      <td>21.25</td>\n",
              "      <td>130.00</td>\n",
              "      <td>1203.0</td>\n",
              "      <td>0.10960</td>\n",
              "      <td>0</td>\n",
              "    </tr>\n",
              "    <tr>\n",
              "      <th>3</th>\n",
              "      <td>11.42</td>\n",
              "      <td>20.38</td>\n",
              "      <td>77.58</td>\n",
              "      <td>386.1</td>\n",
              "      <td>0.14250</td>\n",
              "      <td>0</td>\n",
              "    </tr>\n",
              "    <tr>\n",
              "      <th>4</th>\n",
              "      <td>20.29</td>\n",
              "      <td>14.34</td>\n",
              "      <td>135.10</td>\n",
              "      <td>1297.0</td>\n",
              "      <td>0.10030</td>\n",
              "      <td>0</td>\n",
              "    </tr>\n",
              "  </tbody>\n",
              "</table>\n",
              "</div>"
            ],
            "text/plain": [
              "   mean_radius  mean_texture  ...  mean_smoothness  diagnosis\n",
              "0        17.99         10.38  ...          0.11840          0\n",
              "1        20.57         17.77  ...          0.08474          0\n",
              "2        19.69         21.25  ...          0.10960          0\n",
              "3        11.42         20.38  ...          0.14250          0\n",
              "4        20.29         14.34  ...          0.10030          0\n",
              "\n",
              "[5 rows x 6 columns]"
            ]
          },
          "metadata": {
            "tags": []
          },
          "execution_count": 25
        }
      ]
    },
    {
      "cell_type": "markdown",
      "metadata": {
        "id": "7n9zwdywGK1z",
        "colab_type": "text"
      },
      "source": [
        "**1. Check any missing values are there or not. If there are any, take necessary action.**"
      ]
    },
    {
      "cell_type": "code",
      "metadata": {
        "id": "fHj_OS3YGKY_",
        "colab_type": "code",
        "colab": {
          "base_uri": "https://localhost:8080/",
          "height": 136
        },
        "outputId": "fc1f8aaa-ecfc-4d80-f90b-c52f084377fa"
      },
      "source": [
        "df.isna().sum()"
      ],
      "execution_count": 26,
      "outputs": [
        {
          "output_type": "execute_result",
          "data": {
            "text/plain": [
              "mean_radius        0\n",
              "mean_texture       0\n",
              "mean_perimeter     0\n",
              "mean_area          0\n",
              "mean_smoothness    0\n",
              "diagnosis          0\n",
              "dtype: int64"
            ]
          },
          "metadata": {
            "tags": []
          },
          "execution_count": 26
        }
      ]
    },
    {
      "cell_type": "markdown",
      "metadata": {
        "id": "0R8jVBnJGQa_",
        "colab_type": "text"
      },
      "source": [
        "No null values."
      ]
    },
    {
      "cell_type": "markdown",
      "metadata": {
        "id": "E40N-DYGGUr9",
        "colab_type": "text"
      },
      "source": [
        "**2. Find correlation between input data using pearson correlation coefficient.**"
      ]
    },
    {
      "cell_type": "code",
      "metadata": {
        "id": "lYKqQkrLHYL1",
        "colab_type": "code",
        "colab": {
          "base_uri": "https://localhost:8080/",
          "height": 488
        },
        "outputId": "e519db91-0c19-4bd7-b103-29cf1640563b"
      },
      "source": [
        "# Correlation\n",
        "plt.figure(figsize=(12,8))\n",
        "sns.heatmap(df.corr(), annot=True);"
      ],
      "execution_count": 27,
      "outputs": [
        {
          "output_type": "display_data",
          "data": {
            "image/png": "[encoded data removed]",
            "text/plain": [
              "<Figure size 864x576 with 2 Axes>"
            ]
          },
          "metadata": {
            "tags": [],
            "needs_background": "light"
          }
        }
      ]
    },
    {
      "cell_type": "code",
      "metadata": {
        "id": "504rBWa1-_vP",
        "colab_type": "code",
        "colab": {}
      },
      "source": [
        "# Pearson Correlation between input and target feature\n",
        "correlation_table = pd.DataFrame()\n",
        "correlation_table['features'] = df.columns\n",
        "\n",
        "coeffs = []\n",
        "p_vs = []\n",
        "for col in df.columns:\n",
        "\n",
        "        coeff, p = stats.pearsonr(df[col], df['diagnosis'])\n",
        "        coeffs.append(coeff)\n",
        "        p_vs.append(p)\n",
        "\n",
        "correlation_table['Pearson_Correlation'] = coeffs\n",
        "correlation_table['P_value'] = p_vs"
      ],
      "execution_count": 28,
      "outputs": []
    },
    {
      "cell_type": "code",
      "metadata": {
        "id": "xvxKeKngHDx_",
        "colab_type": "code",
        "colab": {
          "base_uri": "https://localhost:8080/",
          "height": 235
        },
        "outputId": "17780768-903a-4967-dde6-6b9e8b8fd745"
      },
      "source": [
        "correlation_table"
      ],
      "execution_count": 29,
      "outputs": [
        {
          "output_type": "execute_result",
          "data": {
            "text/html": [
              "<div>\n",
              "<style scoped>\n",
              "    .dataframe tbody tr th:only-of-type {\n",
              "        vertical-align: middle;\n",
              "    }\n",
              "\n",
              "    .dataframe tbody tr th {\n",
              "        vertical-align: top;\n",
              "    }\n",
              "\n",
              "    .dataframe thead th {\n",
              "        text-align: right;\n",
              "    }\n",
              "</style>\n",
              "<table border=\"1\" class=\"dataframe\">\n",
              "  <thead>\n",
              "    <tr style=\"text-align: right;\">\n",
              "      <th></th>\n",
              "      <th>features</th>\n",
              "      <th>Pearson_Correlation</th>\n",
              "      <th>P_value</th>\n",
              "    </tr>\n",
              "  </thead>\n",
              "  <tbody>\n",
              "    <tr>\n",
              "      <th>0</th>\n",
              "      <td>mean_radius</td>\n",
              "      <td>-0.730029</td>\n",
              "      <td>8.465941e-96</td>\n",
              "    </tr>\n",
              "    <tr>\n",
              "      <th>1</th>\n",
              "      <td>mean_texture</td>\n",
              "      <td>-0.415185</td>\n",
              "      <td>4.058636e-25</td>\n",
              "    </tr>\n",
              "    <tr>\n",
              "      <th>2</th>\n",
              "      <td>mean_perimeter</td>\n",
              "      <td>-0.742636</td>\n",
              "      <td>8.436251e-101</td>\n",
              "    </tr>\n",
              "    <tr>\n",
              "      <th>3</th>\n",
              "      <td>mean_area</td>\n",
              "      <td>-0.708984</td>\n",
              "      <td>4.734564e-88</td>\n",
              "    </tr>\n",
              "    <tr>\n",
              "      <th>4</th>\n",
              "      <td>mean_smoothness</td>\n",
              "      <td>-0.358560</td>\n",
              "      <td>1.051850e-18</td>\n",
              "    </tr>\n",
              "    <tr>\n",
              "      <th>5</th>\n",
              "      <td>diagnosis</td>\n",
              "      <td>1.000000</td>\n",
              "      <td>0.000000e+00</td>\n",
              "    </tr>\n",
              "  </tbody>\n",
              "</table>\n",
              "</div>"
            ],
            "text/plain": [
              "          features  Pearson_Correlation        P_value\n",
              "0      mean_radius            -0.730029   8.465941e-96\n",
              "1     mean_texture            -0.415185   4.058636e-25\n",
              "2   mean_perimeter            -0.742636  8.436251e-101\n",
              "3        mean_area            -0.708984   4.734564e-88\n",
              "4  mean_smoothness            -0.358560   1.051850e-18\n",
              "5        diagnosis             1.000000   0.000000e+00"
            ]
          },
          "metadata": {
            "tags": []
          },
          "execution_count": 29
        }
      ]
    },
    {
      "cell_type": "code",
      "metadata": {
        "id": "lwNSPmhkJBXu",
        "colab_type": "code",
        "colab": {}
      },
      "source": [
        "y = df.pop('diagnosis')\n",
        "X = df"
      ],
      "execution_count": 30,
      "outputs": []
    },
    {
      "cell_type": "code",
      "metadata": {
        "id": "NHvoy8oeJqg_",
        "colab_type": "code",
        "colab": {
          "base_uri": "https://localhost:8080/",
          "height": 204
        },
        "outputId": "ba812e8c-ed78-4457-e92d-4b51c233dbde"
      },
      "source": [
        "X[:5]"
      ],
      "execution_count": 31,
      "outputs": [
        {
          "output_type": "execute_result",
          "data": {
            "text/html": [
              "<div>\n",
              "<style scoped>\n",
              "    .dataframe tbody tr th:only-of-type {\n",
              "        vertical-align: middle;\n",
              "    }\n",
              "\n",
              "    .dataframe tbody tr th {\n",
              "        vertical-align: top;\n",
              "    }\n",
              "\n",
              "    .dataframe thead th {\n",
              "        text-align: right;\n",
              "    }\n",
              "</style>\n",
              "<table border=\"1\" class=\"dataframe\">\n",
              "  <thead>\n",
              "    <tr style=\"text-align: right;\">\n",
              "      <th></th>\n",
              "      <th>mean_radius</th>\n",
              "      <th>mean_texture</th>\n",
              "      <th>mean_perimeter</th>\n",
              "      <th>mean_area</th>\n",
              "      <th>mean_smoothness</th>\n",
              "    </tr>\n",
              "  </thead>\n",
              "  <tbody>\n",
              "    <tr>\n",
              "      <th>0</th>\n",
              "      <td>17.99</td>\n",
              "      <td>10.38</td>\n",
              "      <td>122.80</td>\n",
              "      <td>1001.0</td>\n",
              "      <td>0.11840</td>\n",
              "    </tr>\n",
              "    <tr>\n",
              "      <th>1</th>\n",
              "      <td>20.57</td>\n",
              "      <td>17.77</td>\n",
              "      <td>132.90</td>\n",
              "      <td>1326.0</td>\n",
              "      <td>0.08474</td>\n",
              "    </tr>\n",
              "    <tr>\n",
              "      <th>2</th>\n",
              "      <td>19.69</td>\n",
              "      <td>21.25</td>\n",
              "      <td>130.00</td>\n",
              "      <td>1203.0</td>\n",
              "      <td>0.10960</td>\n",
              "    </tr>\n",
              "    <tr>\n",
              "      <th>3</th>\n",
              "      <td>11.42</td>\n",
              "      <td>20.38</td>\n",
              "      <td>77.58</td>\n",
              "      <td>386.1</td>\n",
              "      <td>0.14250</td>\n",
              "    </tr>\n",
              "    <tr>\n",
              "      <th>4</th>\n",
              "      <td>20.29</td>\n",
              "      <td>14.34</td>\n",
              "      <td>135.10</td>\n",
              "      <td>1297.0</td>\n",
              "      <td>0.10030</td>\n",
              "    </tr>\n",
              "  </tbody>\n",
              "</table>\n",
              "</div>"
            ],
            "text/plain": [
              "   mean_radius  mean_texture  mean_perimeter  mean_area  mean_smoothness\n",
              "0        17.99         10.38          122.80     1001.0          0.11840\n",
              "1        20.57         17.77          132.90     1326.0          0.08474\n",
              "2        19.69         21.25          130.00     1203.0          0.10960\n",
              "3        11.42         20.38           77.58      386.1          0.14250\n",
              "4        20.29         14.34          135.10     1297.0          0.10030"
            ]
          },
          "metadata": {
            "tags": []
          },
          "execution_count": 31
        }
      ]
    },
    {
      "cell_type": "markdown",
      "metadata": {
        "id": "AvA0Phf3aLOT",
        "colab_type": "text"
      },
      "source": [
        "**3.Build classifier using KNN to predict breast cancer. Send normalized data to the model**"
      ]
    },
    {
      "cell_type": "code",
      "metadata": {
        "id": "tnXyfB_4IrMi",
        "colab_type": "code",
        "colab": {}
      },
      "source": [
        "X = normalize(X, norm='l1', axis=0, copy=True)"
      ],
      "execution_count": 32,
      "outputs": []
    },
    {
      "cell_type": "code",
      "metadata": {
        "id": "RQQXhW9uJom-",
        "colab_type": "code",
        "colab": {
          "base_uri": "https://localhost:8080/",
          "height": 102
        },
        "outputId": "067c614e-c4eb-4daa-8c90-ce03f06ac39f"
      },
      "source": [
        "X[:5]"
      ],
      "execution_count": 33,
      "outputs": [
        {
          "output_type": "execute_result",
          "data": {
            "text/plain": [
              "array([[0.002238  , 0.00094572, 0.00234663, 0.0026863 , 0.00215944],\n",
              "       [0.00255896, 0.00161901, 0.00253963, 0.00355847, 0.00154553],\n",
              "       [0.00244948, 0.00193608, 0.00248422, 0.00322839, 0.00199894],\n",
              "       [0.00142068, 0.00185681, 0.0014825 , 0.00103614, 0.00259899],\n",
              "       [0.00252413, 0.00130651, 0.00258167, 0.00348065, 0.00182932]])"
            ]
          },
          "metadata": {
            "tags": []
          },
          "execution_count": 33
        }
      ]
    },
    {
      "cell_type": "code",
      "metadata": {
        "id": "AjJhFWlwJQpd",
        "colab_type": "code",
        "colab": {}
      },
      "source": [
        "X_train, X_test, y_train, y_test = train_test_split(X, y, test_size = 0.2)"
      ],
      "execution_count": 34,
      "outputs": []
    },
    {
      "cell_type": "code",
      "metadata": {
        "id": "WnO5IDRoHTVP",
        "colab_type": "code",
        "colab": {}
      },
      "source": [
        "from sklearn.neighbors import KNeighborsClassifier\n",
        "knnclf = KNeighborsClassifier()"
      ],
      "execution_count": 35,
      "outputs": []
    },
    {
      "cell_type": "code",
      "metadata": {
        "id": "2YZx4bsVYCWy",
        "colab_type": "code",
        "colab": {
          "base_uri": "https://localhost:8080/",
          "height": 51
        },
        "outputId": "e8f4babe-a958-4f3f-cc71-0db5b4d69d58"
      },
      "source": [
        "knnclf.fit(X_train, y_train)\n",
        "preds = knnclf.predict(X_test)\n",
        "print('Accuracy for KNN: ',accuracy_score(y_test, preds))\n",
        "print('Mean Squared Error for KNN: ',mean_squared_error(y_test, preds))"
      ],
      "execution_count": 36,
      "outputs": [
        {
          "output_type": "stream",
          "text": [
            "Accuracy for KNN:  0.9035087719298246\n",
            "Mean Squared Error for KNN:  0.09649122807017543\n"
          ],
          "name": "stdout"
        }
      ]
    },
    {
      "cell_type": "markdown",
      "metadata": {
        "id": "FiO8PIvbaUmI",
        "colab_type": "text"
      },
      "source": [
        "**4a. Build linear and logistic regression and find out in this case which regressor is better.  \n",
        "4b. Find r2 score.  \n",
        "4c. Find MSE**"
      ]
    },
    {
      "cell_type": "code",
      "metadata": {
        "id": "tHdnjKjWY-iq",
        "colab_type": "code",
        "colab": {
          "base_uri": "https://localhost:8080/",
          "height": 68
        },
        "outputId": "71b95e07-0b32-40ba-9119-f2b9deb5e8c2"
      },
      "source": [
        "from sklearn.linear_model import LogisticRegression\n",
        "logr = LogisticRegression(random_state=1)\n",
        "logr.fit(X_train, y_train)\n",
        "preds = logr.predict(X_test)\n",
        "print('Accuracy for Logistic Regression: ',accuracy_score(y_test, preds))\n",
        "print('Mean Squared Error for Logistic Regression: ',mean_squared_error(y_test, preds))\n",
        "print('R2 Value: ',r2_score(y_test, preds))"
      ],
      "execution_count": 37,
      "outputs": [
        {
          "output_type": "stream",
          "text": [
            "Accuracy for Logistic Regression:  0.6754385964912281\n",
            "Mean Squared Error for Logistic Regression:  0.32456140350877194\n",
            "R2 Value:  -0.48051948051948057\n"
          ],
          "name": "stdout"
        }
      ]
    },
    {
      "cell_type": "markdown",
      "metadata": {
        "id": "r6iIvWhwav9I",
        "colab_type": "text"
      },
      "source": [
        "**5. Build a tree-based model to build a classifier. Draw confusion matrix**"
      ]
    },
    {
      "cell_type": "code",
      "metadata": {
        "id": "7B8Sw-jQWPyD",
        "colab_type": "code",
        "colab": {
          "base_uri": "https://localhost:8080/",
          "height": 102
        },
        "outputId": "0566971e-0251-497f-bd5f-ca443b21ee95"
      },
      "source": [
        "from sklearn.tree import DecisionTreeClassifier\n",
        "from sklearn.metrics import confusion_matrix\n",
        "dtree = DecisionTreeClassifier(criterion='entropy')\n",
        "dtree.fit(X_train, y_train)\n",
        "preds = dtree.predict(X_test)\n",
        "print('Accuracy for Logistic Regression: ',accuracy_score(y_test, preds))\n",
        "print('Mean Squared Error for Logistic Regression: ',mean_squared_error(y_test, preds))\n",
        "print('Confusion Matrix:\\n', confusion_matrix(y_test, preds))"
      ],
      "execution_count": 38,
      "outputs": [
        {
          "output_type": "stream",
          "text": [
            "Accuracy for Logistic Regression:  0.9298245614035088\n",
            "Mean Squared Error for Logistic Regression:  0.07017543859649122\n",
            "Confusion Matrix:\n",
            " [[34  3]\n",
            " [ 5 72]]\n"
          ],
          "name": "stdout"
        }
      ]
    },
    {
      "cell_type": "markdown",
      "metadata": {
        "id": "h2ndD0_zbROU",
        "colab_type": "text"
      },
      "source": [
        "**6.Perform ensemble-based model ie Random forest classifier and check whether there is any improvement in the accuracy of the model.   \n",
        "Show precision, recall.**"
      ]
    },
    {
      "cell_type": "code",
      "metadata": {
        "id": "KAYcj5i5Wwx4",
        "colab_type": "code",
        "colab": {
          "base_uri": "https://localhost:8080/",
          "height": 85
        },
        "outputId": "1bdf031e-fa56-421d-d789-42f9a6ea0530"
      },
      "source": [
        "from sklearn.ensemble import RandomForestClassifier\n",
        "rfc = RandomForestClassifier(n_estimators=10, criterion = 'entropy', random_state=1)\n",
        "rfc.fit(X_train, y_train)\n",
        "preds = rfc.predict(X_test)\n",
        "\n",
        "print('Accuracy for Logistic Regression: ',accuracy_score(y_test, preds))\n",
        "print('Mean Squared Error for Logistic Regression: ',mean_squared_error(y_test, preds))\n",
        "print('precision score: ',precision_score(y_test,preds))\n",
        "print('Recall score: ',recall_score(y_test, preds))"
      ],
      "execution_count": 39,
      "outputs": [
        {
          "output_type": "stream",
          "text": [
            "Accuracy for Logistic Regression:  0.9298245614035088\n",
            "Mean Squared Error for Logistic Regression:  0.07017543859649122\n",
            "precision score:  0.96\n",
            "Recall score:  0.935064935064935\n"
          ],
          "name": "stdout"
        }
      ]
    },
    {
      "cell_type": "code",
      "metadata": {
        "id": "CNxraCgWXG6p",
        "colab_type": "code",
        "colab": {
          "base_uri": "https://localhost:8080/",
          "height": 170
        },
        "outputId": "04d1bcf5-d303-46c7-8442-fad21d5eda5c"
      },
      "source": [
        "from sklearn.metrics import classification_report\n",
        "print(classification_report(y_test, preds))"
      ],
      "execution_count": 40,
      "outputs": [
        {
          "output_type": "stream",
          "text": [
            "              precision    recall  f1-score   support\n",
            "\n",
            "           0       0.87      0.92      0.89        37\n",
            "           1       0.96      0.94      0.95        77\n",
            "\n",
            "    accuracy                           0.93       114\n",
            "   macro avg       0.92      0.93      0.92       114\n",
            "weighted avg       0.93      0.93      0.93       114\n",
            "\n"
          ],
          "name": "stdout"
        }
      ]
    },
    {
      "cell_type": "markdown",
      "metadata": {
        "id": "8aI376eTfDxn",
        "colab_type": "text"
      },
      "source": [
        "**8. Build any other classifier to get a model with better performance.**"
      ]
    },
    {
      "cell_type": "code",
      "metadata": {
        "id": "CgxgIwL_Xqe3",
        "colab_type": "code",
        "colab": {
          "base_uri": "https://localhost:8080/",
          "height": 255
        },
        "outputId": "ab906785-cbc4-438f-ab7d-7a9374a5c303"
      },
      "source": [
        "from sklearn.naive_bayes import GaussianNB\n",
        "nbclf = GaussianNB()\n",
        "nbclf.fit(X_train, y_train)\n",
        "preds = nbclf.predict(X_test)\n",
        "\n",
        "print('Accuracy for Naive Bayes: ',accuracy_score(y_test, preds))\n",
        "print('Mean Squared Error for Naive Bayes: ',mean_squared_error(y_test, preds))\n",
        "print('precision score fir Naive Bayes: ',precision_score(y_test,preds))\n",
        "print('Recall score for Naive Bayes: ',recall_score(y_test, preds))\n",
        "print('\\n',classification_report(y_test, preds))"
      ],
      "execution_count": 43,
      "outputs": [
        {
          "output_type": "stream",
          "text": [
            "Accuracy for Naive Bayes:  0.9035087719298246\n",
            "Mean Squared Error for Naive Bayes:  0.09649122807017543\n",
            "precision score fir Naive Bayes:  0.9024390243902439\n",
            "Recall score for Naive Bayes:  0.961038961038961\n",
            "\n",
            "               precision    recall  f1-score   support\n",
            "\n",
            "           0       0.91      0.78      0.84        37\n",
            "           1       0.90      0.96      0.93        77\n",
            "\n",
            "    accuracy                           0.90       114\n",
            "   macro avg       0.90      0.87      0.89       114\n",
            "weighted avg       0.90      0.90      0.90       114\n",
            "\n"
          ],
          "name": "stdout"
        }
      ]
    },
    {
      "cell_type": "code",
      "metadata": {
        "id": "-a1WLxEChl2Q",
        "colab_type": "code",
        "colab": {}
      },
      "source": [
        ""
      ],
      "execution_count": null,
      "outputs": []
    }
  ]
}